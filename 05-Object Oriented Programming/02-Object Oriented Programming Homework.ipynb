{
 "cells": [
  {
   "cell_type": "markdown",
   "source": [
    "___\n",
    "\n",
    "<a href='https://www.udemy.com/user/joseportilla/'><img src='../Pierian_Data_Logo.png'/></a>\n",
    "___\n",
    "<center><em>Content Copyright by Pierian Data</em></center>"
   ],
   "metadata": {}
  },
  {
   "cell_type": "markdown",
   "source": [
    "# Object Oriented Programming\n",
    "## Homework Assignment\n",
    "\n",
    "#### Problem 1\n",
    "Fill in the Line class methods to accept coordinates as a pair of tuples and return the slope and distance of the line."
   ],
   "metadata": {}
  },
  {
   "cell_type": "code",
   "execution_count": 13,
   "source": [
    "class Line:\r\n",
    "    \r\n",
    "    def __init__(self,cor1,cor2):\r\n",
    "        self.cor1 = cor1\r\n",
    "        self.cor2 = cor2\r\n",
    "    \r\n",
    "    def distance(self):\r\n",
    "        return ((self.cor1[0] - self.cor2[0])**2 + (self.cor1[1] - self.cor2[1])**2)**.5\r\n",
    "    \r\n",
    "    def slope(self):\r\n",
    "        return ((self.cor2[1] - self.cor1[1]) / (self.cor2[0] - self.cor1[0]))"
   ],
   "outputs": [],
   "metadata": {
    "collapsed": true
   }
  },
  {
   "cell_type": "code",
   "execution_count": 14,
   "source": [
    "# EXAMPLE OUTPUT\r\n",
    "\r\n",
    "coordinate1 = (3,2)\r\n",
    "coordinate2 = (8,10)\r\n",
    "\r\n",
    "li = Line(coordinate1,coordinate2)"
   ],
   "outputs": [],
   "metadata": {
    "collapsed": true
   }
  },
  {
   "cell_type": "code",
   "execution_count": 15,
   "source": [
    "li.distance()"
   ],
   "outputs": [
    {
     "output_type": "execute_result",
     "data": {
      "text/plain": [
       "9.433981132056603"
      ]
     },
     "metadata": {},
     "execution_count": 15
    }
   ],
   "metadata": {}
  },
  {
   "cell_type": "code",
   "execution_count": 16,
   "source": [
    "li.slope()"
   ],
   "outputs": [
    {
     "output_type": "execute_result",
     "data": {
      "text/plain": [
       "1.6"
      ]
     },
     "metadata": {},
     "execution_count": 16
    }
   ],
   "metadata": {}
  },
  {
   "cell_type": "markdown",
   "source": [
    "________\n",
    "#### Problem 2"
   ],
   "metadata": {}
  },
  {
   "cell_type": "markdown",
   "source": [
    "Fill in the class "
   ],
   "metadata": {}
  },
  {
   "cell_type": "code",
   "execution_count": 34,
   "source": [
    "import math\r\n",
    "class Cylinder:\r\n",
    "    pi = math.pi\r\n",
    "    \r\n",
    "    def __init__(self,height=1,radius=1):\r\n",
    "        self.height = height\r\n",
    "        self.radius = radius\r\n",
    "        \r\n",
    "    def volume(self):\r\n",
    "        return round(self.height * self.pi * self.radius ** 2, 2)\r\n",
    "    \r\n",
    "    def surface_area(self):\r\n",
    "        return round(2 * self.pi * self.radius * (self.height + self.radius), 2)"
   ],
   "outputs": [],
   "metadata": {
    "collapsed": true
   }
  },
  {
   "cell_type": "code",
   "execution_count": 35,
   "source": [
    "# EXAMPLE OUTPUT\r\n",
    "c = Cylinder(2,3)"
   ],
   "outputs": [],
   "metadata": {
    "collapsed": true
   }
  },
  {
   "cell_type": "code",
   "execution_count": 36,
   "source": [
    "c.volume()"
   ],
   "outputs": [
    {
     "output_type": "execute_result",
     "data": {
      "text/plain": [
       "56.55"
      ]
     },
     "metadata": {},
     "execution_count": 36
    }
   ],
   "metadata": {}
  },
  {
   "cell_type": "code",
   "execution_count": 37,
   "source": [
    "c.surface_area()"
   ],
   "outputs": [
    {
     "output_type": "execute_result",
     "data": {
      "text/plain": [
       "94.25"
      ]
     },
     "metadata": {},
     "execution_count": 37
    }
   ],
   "metadata": {}
  }
 ],
 "metadata": {
  "kernelspec": {
   "display_name": "Python 3",
   "language": "python",
   "name": "python3"
  },
  "language_info": {
   "codemirror_mode": {
    "name": "ipython",
    "version": 3
   },
   "file_extension": ".py",
   "mimetype": "text/x-python",
   "name": "python",
   "nbconvert_exporter": "python",
   "pygments_lexer": "ipython3",
   "version": "3.6.6"
  }
 },
 "nbformat": 4,
 "nbformat_minor": 1
}