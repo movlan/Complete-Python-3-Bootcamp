{
 "cells": [
  {
   "cell_type": "markdown",
   "source": [
    "___\n",
    "\n",
    "<a href='https://www.udemy.com/user/joseportilla/'><img src='../Pierian_Data_Logo.png'/></a>\n",
    "___\n",
    "<center><em>Content Copyright by Pierian Data</em></center>"
   ],
   "metadata": {}
  },
  {
   "cell_type": "markdown",
   "source": [
    "# Object Oriented Programming Challenge\n",
    "\n",
    "For this challenge, create a bank account class that has two attributes:\n",
    "\n",
    "* owner\n",
    "* balance\n",
    "\n",
    "and two methods:\n",
    "\n",
    "* deposit\n",
    "* withdraw\n",
    "\n",
    "As an added requirement, withdrawals may not exceed the available balance.\n",
    "\n",
    "Instantiate your class, make several deposits and withdrawals, and test to make sure the account can't be overdrawn."
   ],
   "metadata": {}
  },
  {
   "cell_type": "code",
   "execution_count": 13,
   "source": [
    "class Account:\r\n",
    "    \r\n",
    "    def __init__(self, owner, balance) -> None:\r\n",
    "        self.owner = owner\r\n",
    "        self.balance = balance\r\n",
    "\r\n",
    "    def __str__(self) -> str:\r\n",
    "        return f'Account owner: {self.owner}\\nAccount balance: {self.balance}'\r\n",
    "\r\n",
    "    def deposit(self, amount):\r\n",
    "        self.balance += amount\r\n",
    "        print('Deposit accepted')\r\n",
    "\r\n",
    "    def withdraw(self, amount):\r\n",
    "        if self.balance >= amount:\r\n",
    "            self.balance -= amount\r\n",
    "            print('Withdrawal Accepted')\r\n",
    "        else:\r\n",
    "            print('Funds Unavailable!')"
   ],
   "outputs": [],
   "metadata": {
    "collapsed": true
   }
  },
  {
   "cell_type": "code",
   "execution_count": 14,
   "source": [
    "# 1. Instantiate the class\r\n",
    "acct1 = Account('Jose',100)"
   ],
   "outputs": [],
   "metadata": {
    "collapsed": true
   }
  },
  {
   "cell_type": "code",
   "execution_count": 4,
   "source": [
    "# 2. Print the object\r\n",
    "print(acct1)"
   ],
   "outputs": [
    {
     "output_type": "stream",
     "name": "stdout",
     "text": [
      "Account owner: Jose\n",
      "Account balance: 100\n"
     ]
    }
   ],
   "metadata": {}
  },
  {
   "cell_type": "code",
   "execution_count": 5,
   "source": [
    "# 3. Show the account owner attribute\r\n",
    "acct1.owner"
   ],
   "outputs": [
    {
     "output_type": "execute_result",
     "data": {
      "text/plain": [
       "'Jose'"
      ]
     },
     "metadata": {},
     "execution_count": 5
    }
   ],
   "metadata": {}
  },
  {
   "cell_type": "code",
   "execution_count": 6,
   "source": [
    "# 4. Show the account balance attribute\r\n",
    "acct1.balance"
   ],
   "outputs": [
    {
     "output_type": "execute_result",
     "data": {
      "text/plain": [
       "100"
      ]
     },
     "metadata": {},
     "execution_count": 6
    }
   ],
   "metadata": {}
  },
  {
   "cell_type": "code",
   "execution_count": 9,
   "source": [
    "# 5. Make a series of deposits and withdrawals\r\n",
    "acct1.deposit(50)"
   ],
   "outputs": [
    {
     "output_type": "stream",
     "name": "stdout",
     "text": [
      "Deposit accepted\n"
     ]
    }
   ],
   "metadata": {}
  },
  {
   "cell_type": "code",
   "execution_count": 12,
   "source": [
    "acct1.withdraw(75)"
   ],
   "outputs": [
    {
     "output_type": "stream",
     "name": "stdout",
     "text": [
      "Withdrawal Accepted\n"
     ]
    }
   ],
   "metadata": {}
  },
  {
   "cell_type": "code",
   "execution_count": 15,
   "source": [
    "# 6. Make a withdrawal that exceeds the available balance\r\n",
    "acct1.withdraw(500)"
   ],
   "outputs": [
    {
     "output_type": "stream",
     "name": "stdout",
     "text": [
      "Funds Unavailable!\n"
     ]
    }
   ],
   "metadata": {}
  },
  {
   "cell_type": "markdown",
   "source": [
    "## Good job!"
   ],
   "metadata": {}
  }
 ],
 "metadata": {
  "kernelspec": {
   "name": "python3",
   "display_name": "Python 3.9.7 64-bit"
  },
  "language_info": {
   "codemirror_mode": {
    "name": "ipython",
    "version": 3
   },
   "file_extension": ".py",
   "mimetype": "text/x-python",
   "name": "python",
   "nbconvert_exporter": "python",
   "pygments_lexer": "ipython3",
   "version": "3.9.7"
  },
  "interpreter": {
   "hash": "8d43e42520b6494f2a6692773a2cd51e5aa54b5043ea248e95fa83c37aafb169"
  }
 },
 "nbformat": 4,
 "nbformat_minor": 2
}