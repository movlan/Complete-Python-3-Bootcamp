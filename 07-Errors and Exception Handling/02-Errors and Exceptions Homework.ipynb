{
 "cells": [
  {
   "cell_type": "markdown",
   "source": [
    "___\n",
    "\n",
    "<a href='https://www.udemy.com/user/joseportilla/'><img src='../Pierian_Data_Logo.png'/></a>\n",
    "___\n",
    "<center><em>Content Copyright by Pierian Data</em></center>"
   ],
   "metadata": {}
  },
  {
   "cell_type": "markdown",
   "source": [
    "# Errors and Exceptions Homework"
   ],
   "metadata": {}
  },
  {
   "cell_type": "markdown",
   "source": [
    "### Problem 1\n",
    "Handle the exception thrown by the code below by using <code>try</code> and <code>except</code> blocks."
   ],
   "metadata": {}
  },
  {
   "cell_type": "code",
   "execution_count": 6,
   "source": [
    "try:\r\n",
    "    for i in ['a','b','c']:\r\n",
    "        print(i**2)\r\n",
    "except:\r\n",
    "    print(\"Something didn't power up!\")"
   ],
   "outputs": [
    {
     "output_type": "stream",
     "name": "stdout",
     "text": [
      "Something didn't power up!\n"
     ]
    }
   ],
   "metadata": {}
  },
  {
   "cell_type": "markdown",
   "source": [
    "### Problem 2\n",
    "Handle the exception thrown by the code below by using <code>try</code> and <code>except</code> blocks. Then use a <code>finally</code> block to print 'All Done.'"
   ],
   "metadata": {}
  },
  {
   "cell_type": "code",
   "execution_count": 3,
   "source": [
    "x = 5\r\n",
    "y = 0\r\n",
    "\r\n",
    "try:\r\n",
    "    z = x/y\r\n",
    "except Exception as e:\r\n",
    "    print('You cannot do that because: ' + str(e))\r\n",
    "finally:\r\n",
    "    print('All done')"
   ],
   "outputs": [
    {
     "output_type": "stream",
     "name": "stdout",
     "text": [
      "You cannot do that because: division by zero\n",
      "All done\n"
     ]
    }
   ],
   "metadata": {}
  },
  {
   "cell_type": "markdown",
   "source": [
    "### Problem 3\n",
    "Write a function that asks for an integer and prints the square of it. Use a <code>while</code> loop with a <code>try</code>, <code>except</code>, <code>else</code> block to account for incorrect inputs."
   ],
   "metadata": {}
  },
  {
   "cell_type": "code",
   "execution_count": 7,
   "source": [
    "def ask():\r\n",
    "    while True:\r\n",
    "        try:\r\n",
    "            val = int(input('Please enter an integer: '))\r\n",
    "        except:\r\n",
    "            print(\"You did not enter an integer!\")\r\n",
    "        else:\r\n",
    "            print('That is what I\\'m talking about!')\r\n",
    "            break\r\n",
    "        finally:\r\n",
    "            print('Finally executed!')\r\n",
    "    print(val**2)"
   ],
   "outputs": [],
   "metadata": {
    "collapsed": true
   }
  },
  {
   "cell_type": "code",
   "execution_count": 9,
   "source": [
    "ask()"
   ],
   "outputs": [
    {
     "output_type": "stream",
     "name": "stdout",
     "text": [
      "You did not enter an integer!\n",
      "Finally executed!\n",
      "You did not enter an integer!\n",
      "Finally executed!\n",
      "You did not enter an integer!\n",
      "Finally executed!\n",
      "You did not enter an integer!\n",
      "Finally executed!\n",
      "That is what I'm talking about!\n",
      "Finally executed!\n",
      "9\n"
     ]
    }
   ],
   "metadata": {}
  },
  {
   "cell_type": "markdown",
   "source": [
    "# Great Job!"
   ],
   "metadata": {}
  }
 ],
 "metadata": {
  "kernelspec": {
   "name": "python3",
   "display_name": "Python 3.9.7 64-bit"
  },
  "language_info": {
   "codemirror_mode": {
    "name": "ipython",
    "version": 3
   },
   "file_extension": ".py",
   "mimetype": "text/x-python",
   "name": "python",
   "nbconvert_exporter": "python",
   "pygments_lexer": "ipython3",
   "version": "3.9.7"
  },
  "interpreter": {
   "hash": "8d43e42520b6494f2a6692773a2cd51e5aa54b5043ea248e95fa83c37aafb169"
  }
 },
 "nbformat": 4,
 "nbformat_minor": 1
}